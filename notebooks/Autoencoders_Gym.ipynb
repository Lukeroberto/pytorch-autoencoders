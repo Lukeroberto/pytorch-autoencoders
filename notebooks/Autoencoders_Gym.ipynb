{
 "cells": [
  {
   "cell_type": "code",
   "execution_count": 1,
   "metadata": {},
   "outputs": [],
   "source": [
    "# This notebook is a study into the utility of autoencoders for RL agents"
   ]
  },
  {
   "cell_type": "code",
   "execution_count": 2,
   "metadata": {},
   "outputs": [],
   "source": [
    "import random\n",
    "import numpy as np\n",
    "import matplotlib.pyplot as plt\n",
    "from matplotlib.animation import FuncAnimation\n",
    "from IPython.display import HTML\n",
    "import gym\n",
    "from gym import wrappers\n",
    "\n",
    "import torch\n",
    "from torch.autograd import Variable\n",
    "import torch.nn as nn\n",
    "import torch.nn.functional as F"
   ]
  },
  {
   "cell_type": "code",
   "execution_count": 3,
   "metadata": {},
   "outputs": [
    {
     "name": "stderr",
     "output_type": "stream",
     "text": [
      "/home/luke/anaconda3/envs/autoencoders/lib/python3.7/site-packages/gym/envs/registration.py:14: PkgResourcesDeprecationWarning: Parameters to load are deprecated.  Call .resolve and .require separately.\n",
      "  result = entry_point.load(False)\n"
     ]
    }
   ],
   "source": [
    "cartpole = gym.make(\"CartPole-v1\")\n",
    "cartpole = wrappers.Monitor(cartpole, \".\", video_callable=False ,force=True)"
   ]
  },
  {
   "cell_type": "code",
   "execution_count": 4,
   "metadata": {},
   "outputs": [],
   "source": [
    "def rgb2gray(rgb):\n",
    "    return np.dot(rgb[...,:3], [0.299, 0.587, 0.114])\n",
    "\n",
    "def get_screen(env):\n",
    "    # Grab the grb screen values\n",
    "    rend = env.render(mode='rgb_array')\n",
    "    \n",
    "    # Convert to grayscale\n",
    "    gray = rgb2gray(rend)\n",
    "    \n",
    "    # Downsample 4x\n",
    "    d_gray = gray[::4,::4]\n",
    "    \n",
    "    return d_gray\n",
    "    \n",
    "def plt_screen(screen):\n",
    "    plt.imshow(screen, cmap = plt.get_cmap('gray'))\n",
    "    "
   ]
  },
  {
   "cell_type": "code",
   "execution_count": 5,
   "metadata": {},
   "outputs": [],
   "source": [
    "class ScreenBuffer:\n",
    "    \n",
    "    def __init__(self):\n",
    "        self.memory = list()\n",
    "        \n",
    "    def __len__(self):\n",
    "        return len(self.memory)\n",
    "    \n",
    "    def add(self, frame):\n",
    "        self.memory.append(frame) \n",
    "    \n",
    "    def sample(self, batch_size):\n",
    "        return random.sample(self.memory, batch_size)"
   ]
  },
  {
   "cell_type": "code",
   "execution_count": 6,
   "metadata": {},
   "outputs": [],
   "source": [
    "# Network   \n",
    "CODE_SIZE = 4 # Each state variable in cartpole\n",
    "INPUT_SIZE = np.prod(np.array([100, 150]))\n",
    "class VariationalAutoEncoder(nn.Module):                                                             \n",
    "    def __init__(self):                                                                   \n",
    "        super(VariationalAutoEncoder, self).__init__()                                               \n",
    "                                                     \n",
    "        self.fc1 = nn.Linear(INPUT_SIZE, 256)                                                  \n",
    "        self.fc2 = nn.Linear(256, 64)                                                    \n",
    "        self.fc31 = nn.Linear(64, 4)\n",
    "        self.fc32 = nn.Linear(64, 4)\n",
    "\n",
    "        self.fc4 = nn.Linear(4, 64)                                                    \n",
    "        self.fc5 = nn.Linear(64, 256)                                                    \n",
    "        self.fc6 = nn.Linear(256, INPUT_SIZE)  \n",
    "        \n",
    "        self.optimizer = torch.optim.Adam(self.parameters(), lr=1e-3)\n",
    "\n",
    "    def encode(self, x):\n",
    "        x = x.view(-1, INPUT_SIZE)                                                             \n",
    "        h1 = F.relu(self.fc1(x))                                                           \n",
    "        h2 = F.relu(self.fc2(h1))                                                            \n",
    "        return self.fc31(h2), self.fc32(h2)\n",
    "    \n",
    "    def reparam(self, mu, logvar):\n",
    "        std = torch.exp(0.5*logvar)\n",
    "        eps = torch.randn_like(std)\n",
    "        return eps.mul(std).add_(mu)\n",
    "        \n",
    "    def decode(self, z):\n",
    "        h4 = F.relu(self.fc4(z))                                                           \n",
    "        h5 = F.relu(self.fc5(h4))                                                           \n",
    "        return torch.sigmoid(self.fc6(h5))\n",
    "    \n",
    "    def forward(self, x):\n",
    "        mu, logvar = self.encode(x.view(-1, INPUT_SIZE))\n",
    "        z = self.reparam(mu, logvar)\n",
    "        return self.decode(z), mu, logvar                                                                   \n",
    "                                                                          \n",
    "    def name(self):                                                                       \n",
    "        return \"AutoEncoder\"\n",
    "\n",
    "EPS = 1e-10\n",
    "def loss_function(recon_x, x, mu, logvar): \n",
    "    # Reconstruction\n",
    "    BCE = F.binary_cross_entropy(recon_x, x.view(-1, INPUT_SIZE), reduction='sum')                                                      \n",
    "    \n",
    "    # Smoothness\n",
    "    KLD = -0.5 * torch.sum(1 + logvar - mu.pow(2) - logvar.exp())                         \n",
    "\n",
    "    return BCE + KLD     "
   ]
  },
  {
   "cell_type": "code",
   "execution_count": 7,
   "metadata": {},
   "outputs": [],
   "source": [
    "def train_autoencoder(num_epochs, screen_buffer, batch_size):\n",
    "    model = VariationalAutoEncoder()\n",
    "    \n",
    "    for epoch in range(num_epochs):\n",
    "        \n",
    "        model.train()\n",
    "        train_loss = 0\n",
    "\n",
    "        batch = screen_buffer.sample(batch_size)\n",
    "\n",
    "        for batch_idx, frames in enumerate(batch):\n",
    "            model.optimizer.zero_grad()\n",
    "            \n",
    "            frames /= np.max(np.abs(frames),axis=0)\n",
    "            x = Variable(torch.from_numpy(frames).float(), requires_grad=False)\n",
    "            \n",
    "            recon_batch, mu, logvar = model(x)\n",
    "            \n",
    "            loss = loss_function(recon_batch, x, mu, logvar)\n",
    "            loss.backward()\n",
    "            train_loss += loss.item()\n",
    "            \n",
    "            model.optimizer.step() \n",
    "        \n",
    "        print('====> Epoch: {} Average loss: {:.4f}'.format(epoch, train_loss / len(screen_buffer)))\n",
    "    \n",
    "    return model"
   ]
  },
  {
   "cell_type": "code",
   "execution_count": 8,
   "metadata": {},
   "outputs": [],
   "source": [
    "# Collect data\n",
    "\n",
    "def collectData(env, num_samples):\n",
    "    \n",
    "    env_actions = env.action_space.n\n",
    "    buffer = ScreenBuffer()\n",
    "    \n",
    "    sample_count = 0\n",
    "    while sample_count < num_samples:\n",
    "        \n",
    "        env.reset()\n",
    "        done = False\n",
    "        t = 0\n",
    "        while (not done):\n",
    "            \n",
    "            action = np.random.randint(env_actions)\n",
    "            \n",
    "            _, _, done, _ = env.step(action)\n",
    "            buffer.add(get_screen(env))\n",
    "            env.viewer = None\n",
    "            \n",
    "            if sample_count == num_samples:\n",
    "                done = True\n",
    "                \n",
    "            t += 1\n",
    "            sample_count += 1\n",
    "        \n",
    "    env.close()\n",
    "    return buffer, len(buffer)"
   ]
  },
  {
   "cell_type": "code",
   "execution_count": 9,
   "metadata": {},
   "outputs": [],
   "source": [
    "buffer, buffer_len = collectData(cartpole.env, 500)"
   ]
  },
  {
   "cell_type": "code",
   "execution_count": 10,
   "metadata": {},
   "outputs": [
    {
     "data": {
      "text/plain": [
       "501"
      ]
     },
     "execution_count": 10,
     "metadata": {},
     "output_type": "execute_result"
    }
   ],
   "source": [
    "buffer_len"
   ]
  },
  {
   "cell_type": "code",
   "execution_count": 11,
   "metadata": {
    "scrolled": false
   },
   "outputs": [],
   "source": [
    "# print(\"Number frames: {}\".format(len(buffer)))\n",
    "# fig, ax = plt.subplots(figsize=(5,8))\n",
    "\n",
    "# def update(i):\n",
    "      \n",
    "#     ax.imshow(buffer.memory[i], cmap = plt.get_cmap('gray'))\n",
    "#     ax.set_title(\"Frame: {}\".format(i), fontsize=20)\n",
    "#     ax.set_axis_off()\n",
    "\n",
    "\n",
    "# anim = FuncAnimation(fig, update, frames=np.arange(len(buffer)), interval=50)"
   ]
  },
  {
   "cell_type": "code",
   "execution_count": 12,
   "metadata": {},
   "outputs": [],
   "source": [
    "# HTML(anim.to_html5_video())"
   ]
  },
  {
   "cell_type": "code",
   "execution_count": 13,
   "metadata": {
    "scrolled": false
   },
   "outputs": [
    {
     "name": "stdout",
     "output_type": "stream",
     "text": [
      "====> Epoch: 0 Average loss: 200.6552\n",
      "====> Epoch: 1 Average loss: 45.1719\n",
      "====> Epoch: 2 Average loss: 41.2392\n",
      "====> Epoch: 3 Average loss: 41.0070\n",
      "====> Epoch: 4 Average loss: 38.7451\n",
      "====> Epoch: 5 Average loss: 40.6595\n",
      "====> Epoch: 6 Average loss: 38.8976\n",
      "====> Epoch: 7 Average loss: 36.1109\n",
      "====> Epoch: 8 Average loss: 39.0976\n",
      "====> Epoch: 9 Average loss: 39.0938\n",
      "====> Epoch: 10 Average loss: 39.9192\n",
      "====> Epoch: 11 Average loss: 38.9438\n",
      "====> Epoch: 12 Average loss: 36.9866\n",
      "====> Epoch: 13 Average loss: 37.8570\n",
      "====> Epoch: 14 Average loss: 37.5547\n",
      "====> Epoch: 15 Average loss: 37.6927\n",
      "====> Epoch: 16 Average loss: 36.8963\n",
      "====> Epoch: 17 Average loss: 37.0766\n",
      "====> Epoch: 18 Average loss: 36.7054\n",
      "====> Epoch: 19 Average loss: 38.5395\n"
     ]
    }
   ],
   "source": [
    "# Train autoencoder\n",
    "\n",
    "num_epochs = 20\n",
    "batch_size = 128\n",
    "model = train_autoencoder(num_epochs, buffer, batch_size)"
   ]
  },
  {
   "cell_type": "code",
   "execution_count": 14,
   "metadata": {},
   "outputs": [],
   "source": [
    "def plot_comparison(i):\n",
    "\n",
    "    img = buffer.memory[i]\n",
    "    img = torch.from_numpy(img).type(torch.FloatTensor)\n",
    "    img.unsqueeze_(0)\n",
    "\n",
    "    recon_img, _, _ = model.forward(img)\n",
    "    recon_img = recon_img.view(-1, 100, 150, 1).detach()\n",
    "\n",
    "    fig, (ax1, ax2) = plt.subplots(1,2)\n",
    "\n",
    "    ax1.imshow(buffer.memory[i], cmap=plt.get_cmap('gray'))\n",
    "    ax2.imshow(np.squeeze(recon_img), cmap=plt.get_cmap('gray'))\n",
    "    plt.show()"
   ]
  },
  {
   "cell_type": "code",
   "execution_count": 18,
   "metadata": {},
   "outputs": [
    {
     "data": {
      "image/png": "[encoded data removed]",
      "text/plain": [
       "<Figure size 432x288 with 2 Axes>"
      ]
     },
     "metadata": {
      "needs_background": "light"
     },
     "output_type": "display_data"
    }
   ],
   "source": [
    "plot_comparison(100)"
   ]
  },
  {
   "cell_type": "code",
   "execution_count": 22,
   "metadata": {
    "scrolled": false
   },
   "outputs": [
    {
     "data": {
      "text/plain": [
       "<matplotlib.image.AxesImage at 0x7f33b436a208>"
      ]
     },
     "execution_count": 22,
     "metadata": {},
     "output_type": "execute_result"
    },
    {
     "data": {
      "image/png": "[encoded data removed]",
      "text/plain": [
       "<Figure size 432x288 with 1 Axes>"
      ]
     },
     "metadata": {
      "needs_background": "light"
     },
     "output_type": "display_data"
    }
   ],
   "source": [
    "ex = torch.from_numpy(np.array([1, 0, 0.5, 1])).type(torch.FloatTensor)\n",
    "\n",
    "recon_img = model.decode(ex)\n",
    "recon_img = recon_img.view(-1, 100, 150, 1).detach().data.numpy()\n",
    "plt.imshow(np.squeeze(recon_img), cmap=plt.get_cmap('gray'))"
   ]
  },
  {
   "cell_type": "code",
   "execution_count": null,
   "metadata": {},
   "outputs": [],
   "source": []
  }
 ],
 "metadata": {
  "kernelspec": {
   "display_name": "Python 3",
   "language": "python",
   "name": "python3"
  },
  "language_info": {
   "codemirror_mode": {
    "name": "ipython",
    "version": 3
   },
   "file_extension": ".py",
   "mimetype": "text/x-python",
   "name": "python",
   "nbconvert_exporter": "python",
   "pygments_lexer": "ipython3",
   "version": "3.7.1"
  }
 },
 "nbformat": 4,
 "nbformat_minor": 2
}
