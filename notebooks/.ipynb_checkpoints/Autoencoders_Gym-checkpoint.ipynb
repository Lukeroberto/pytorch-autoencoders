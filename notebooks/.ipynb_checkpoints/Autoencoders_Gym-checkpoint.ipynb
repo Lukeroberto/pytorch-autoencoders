{
 "cells": [
  {
   "cell_type": "code",
   "execution_count": 1,
   "metadata": {},
   "outputs": [],
   "source": [
    "# This notebook is a study into the utility of autoencoders for RL agents"
   ]
  },
  {
   "cell_type": "code",
   "execution_count": 2,
   "metadata": {},
   "outputs": [],
   "source": [
    "import random\n",
    "import numpy as np\n",
    "import matplotlib.pyplot as plt\n",
    "from matplotlib.animation import FuncAnimation\n",
    "from IPython.display import HTML\n",
    "import gym\n",
    "from gym import wrappers\n",
    "\n",
    "import torch\n",
    "from torch.autograd import Variable\n",
    "import torch.nn as nn\n",
    "import torch.nn.functional as F"
   ]
  },
  {
   "cell_type": "code",
   "execution_count": 3,
   "metadata": {},
   "outputs": [
    {
     "name": "stderr",
     "output_type": "stream",
     "text": [
      "/home/luke/anaconda3/envs/autoencoders/lib/python3.7/site-packages/gym/envs/registration.py:14: PkgResourcesDeprecationWarning: Parameters to load are deprecated.  Call .resolve and .require separately.\n",
      "  result = entry_point.load(False)\n"
     ]
    }
   ],
   "source": [
    "cartpole = gym.make(\"CartPole-v1\")\n",
    "cartpole = wrappers.Monitor(cartpole, \".\", video_callable=False ,force=True)"
   ]
  },
  {
   "cell_type": "code",
   "execution_count": 4,
   "metadata": {},
   "outputs": [],
   "source": [
    "def rgb2gray(rgb):\n",
    "    return np.dot(rgb[...,:3], [0.299, 0.587, 0.114])\n",
    "\n",
    "def get_screen(env):\n",
    "    # Grab the grb screen values\n",
    "    rend = env.render(mode='rgb_array')\n",
    "    \n",
    "    # Convert to grayscale\n",
    "    gray = rgb2gray(rend)\n",
    "    \n",
    "    # Downsample 4x\n",
    "    d_gray = gray[::4,::4]\n",
    "    \n",
    "    return d_gray\n",
    "    \n",
    "def plt_screen(screen):\n",
    "    plt.imshow(screen, cmap = plt.get_cmap('gray'))\n",
    "    \n",
    "SCREEN_DIMS = np.array([100, 150])"
   ]
  },
  {
   "cell_type": "code",
   "execution_count": 5,
   "metadata": {},
   "outputs": [],
   "source": [
    "class ScreenBuffer:\n",
    "    \n",
    "    def __init__(self):\n",
    "        self.memory = list()\n",
    "        \n",
    "    def __len__(self):\n",
    "        return len(self.memory)\n",
    "    \n",
    "    def add(self, frame):\n",
    "        self.memory.append(frame) \n",
    "    \n",
    "    def sample(self, batch_size):\n",
    "        return random.sample(self.memory, batch_size)"
   ]
  },
  {
   "cell_type": "code",
   "execution_count": 6,
   "metadata": {},
   "outputs": [],
   "source": [
    "# Network                                                                                 \n",
    "class AutoEncoder(nn.Module):                                                             \n",
    "    def __init__(self):                                                                   \n",
    "        super(AutoEncoder, self).__init__()                                               \n",
    "\n",
    "        # 3 passes down to 100 dims                                                       \n",
    "        # 3 passes back up to 28*28                                                       \n",
    "        self.fc1 = nn.Linear(np.prod(SCREEN_DIMS), 500)                                                  \n",
    "        self.fc2 = nn.Linear(500, 256)                                                    \n",
    "        self.fc3 = nn.Linear(256, 100)                                                    \n",
    "\n",
    "        self.fc4 = nn.Linear(100, 256)                                                    \n",
    "        self.fc5 = nn.Linear(256, 500)                                                    \n",
    "        self.fc6 = nn.Linear(500, np.prod(SCREEN_DIMS))  \n",
    "        \n",
    "        self.optimizer = torch.optim.Adam(self.parameters(), lr=0.001, weight_decay=1e-5)\n",
    "\n",
    "    def forward(self, x):                                                                 \n",
    "        x = x.view(-1, np.prod(SCREEN_DIMS))                                                             \n",
    "        x = F.relu(self.fc1(x))                                                           \n",
    "        x = F.relu(self.fc2(x))                                                           \n",
    "        x = F.relu(self.fc3(x))                                                           \n",
    "        x = F.relu(self.fc4(x))                                                           \n",
    "        x = F.relu(self.fc5(x))                                                           \n",
    "        x = self.fc6(x)                                                                   \n",
    "        return x                                                                          \n",
    "\n",
    "    def name(self):                                                                       \n",
    "        return \"AutoEncoder\"\n",
    "\n",
    "def loss_function(input, target):                                                              \n",
    "    return torch.sum((input - target) ** 2)  "
   ]
  },
  {
   "cell_type": "code",
   "execution_count": 14,
   "metadata": {},
   "outputs": [],
   "source": [
    "def train_autoencoder(num_epochs, screen_buffer, batch_size):\n",
    "    model = AutoEncoder()\n",
    "    \n",
    "    for epoch in range(num_epochs):\n",
    "        \n",
    "        model.train()\n",
    "        train_loss = 0\n",
    "\n",
    "        batch = screen_buffer.sample(batch_size)\n",
    "\n",
    "        for batch_idx, frames in enumerate(batch):\n",
    "            model.optimizer.zero_grad()\n",
    "            \n",
    "            x = Variable(torch.from_numpy(frames).float(), requires_grad=False)\n",
    "            \n",
    "            reconstructed_batch = model(x)\n",
    "            print(x.shape)\n",
    "            print(reconstructed_batch.shape)\n",
    "            loss = loss_function(reconstructed_batch, x)\n",
    "            loss.backward()\n",
    "            train_loss += loss.item()\n",
    "            \n",
    "            optimizer.step() \n",
    "        \n",
    "        print('====> Epoch: {} Average loss: {:.4f}'.format(epoch, train_loss / len(screen_buffer)))\n",
    "    \n",
    "    return model"
   ]
  },
  {
   "cell_type": "code",
   "execution_count": 8,
   "metadata": {},
   "outputs": [],
   "source": [
    "# Collect data\n",
    "\n",
    "def collectData(env, num_samples):\n",
    "    \n",
    "    env_actions = env.action_space.n\n",
    "    buffer = ScreenBuffer()\n",
    "    \n",
    "    sample_count = 0\n",
    "    while sample_count < num_samples:\n",
    "        \n",
    "        env.reset()\n",
    "        done = False\n",
    "        t = 0\n",
    "        while (not done):\n",
    "            \n",
    "            action = np.random.randint(env_actions)\n",
    "            \n",
    "            _, _, done, _ = env.step(action)\n",
    "            buffer.add(get_screen(env))\n",
    "            env.viewer = None\n",
    "            \n",
    "            if sample_count == num_samples:\n",
    "                done = True\n",
    "                \n",
    "            t += 1\n",
    "            sample_count += 1\n",
    "        \n",
    "    env.close()\n",
    "    return buffer, len(buffer)"
   ]
  },
  {
   "cell_type": "code",
   "execution_count": 9,
   "metadata": {},
   "outputs": [],
   "source": [
    "buffer, buffer_len = collectData(cartpole.env, 500)"
   ]
  },
  {
   "cell_type": "code",
   "execution_count": 10,
   "metadata": {},
   "outputs": [
    {
     "data": {
      "text/plain": [
       "501"
      ]
     },
     "execution_count": 10,
     "metadata": {},
     "output_type": "execute_result"
    }
   ],
   "source": [
    "buffer_len"
   ]
  },
  {
   "cell_type": "code",
   "execution_count": 11,
   "metadata": {
    "scrolled": false
   },
   "outputs": [],
   "source": [
    "# print(\"Number frames: {}\".format(len(buffer)))\n",
    "# fig, ax = plt.subplots(figsize=(5,8))\n",
    "\n",
    "# def update(i):\n",
    "      \n",
    "#     ax.imshow(buffer.memory[i], cmap = plt.get_cmap('gray'))\n",
    "#     ax.set_title(\"Frame: {}\".format(i), fontsize=20)\n",
    "#     ax.set_axis_off()\n",
    "\n",
    "\n",
    "# anim = FuncAnimation(fig, update, frames=np.arange(len(buffer)), interval=50)"
   ]
  },
  {
   "cell_type": "code",
   "execution_count": 12,
   "metadata": {},
   "outputs": [],
   "source": [
    "# HTML(anim.to_html5_video())"
   ]
  },
  {
   "cell_type": "code",
   "execution_count": 15,
   "metadata": {},
   "outputs": [
    {
     "name": "stdout",
     "output_type": "stream",
     "text": [
      "torch.Size([100, 150])\n",
      "torch.Size([1, 15000])\n"
     ]
    },
    {
     "ename": "RuntimeError",
     "evalue": "The size of tensor a (15000) must match the size of tensor b (150) at non-singleton dimension 1",
     "output_type": "error",
     "traceback": [
      "\u001b[0;31m---------------------------------------------------------------------------\u001b[0m",
      "\u001b[0;31mRuntimeError\u001b[0m                              Traceback (most recent call last)",
      "\u001b[0;32m<ipython-input-15-8842215126b8>\u001b[0m in \u001b[0;36m<module>\u001b[0;34m\u001b[0m\n\u001b[1;32m      3\u001b[0m \u001b[0mnum_epochs\u001b[0m \u001b[0;34m=\u001b[0m \u001b[0;36m10\u001b[0m\u001b[0;34m\u001b[0m\u001b[0;34m\u001b[0m\u001b[0m\n\u001b[1;32m      4\u001b[0m \u001b[0mbatch_size\u001b[0m \u001b[0;34m=\u001b[0m \u001b[0;36m64\u001b[0m\u001b[0;34m\u001b[0m\u001b[0;34m\u001b[0m\u001b[0m\n\u001b[0;32m----> 5\u001b[0;31m \u001b[0mmodel\u001b[0m \u001b[0;34m=\u001b[0m \u001b[0mtrain_autoencoder\u001b[0m\u001b[0;34m(\u001b[0m\u001b[0mnum_epochs\u001b[0m\u001b[0;34m,\u001b[0m \u001b[0mbuffer\u001b[0m\u001b[0;34m,\u001b[0m \u001b[0mbatch_size\u001b[0m\u001b[0;34m)\u001b[0m\u001b[0;34m\u001b[0m\u001b[0;34m\u001b[0m\u001b[0m\n\u001b[0m",
      "\u001b[0;32m<ipython-input-14-52e66237ee77>\u001b[0m in \u001b[0;36mtrain_autoencoder\u001b[0;34m(num_epochs, screen_buffer, batch_size)\u001b[0m\n\u001b[1;32m     17\u001b[0m             \u001b[0mprint\u001b[0m\u001b[0;34m(\u001b[0m\u001b[0mx\u001b[0m\u001b[0;34m.\u001b[0m\u001b[0mshape\u001b[0m\u001b[0;34m)\u001b[0m\u001b[0;34m\u001b[0m\u001b[0;34m\u001b[0m\u001b[0m\n\u001b[1;32m     18\u001b[0m             \u001b[0mprint\u001b[0m\u001b[0;34m(\u001b[0m\u001b[0mreconstructed_batch\u001b[0m\u001b[0;34m.\u001b[0m\u001b[0mshape\u001b[0m\u001b[0;34m)\u001b[0m\u001b[0;34m\u001b[0m\u001b[0;34m\u001b[0m\u001b[0m\n\u001b[0;32m---> 19\u001b[0;31m             \u001b[0mloss\u001b[0m \u001b[0;34m=\u001b[0m \u001b[0mloss_function\u001b[0m\u001b[0;34m(\u001b[0m\u001b[0mreconstructed_batch\u001b[0m\u001b[0;34m,\u001b[0m \u001b[0mx\u001b[0m\u001b[0;34m)\u001b[0m\u001b[0;34m\u001b[0m\u001b[0;34m\u001b[0m\u001b[0m\n\u001b[0m\u001b[1;32m     20\u001b[0m             \u001b[0mloss\u001b[0m\u001b[0;34m.\u001b[0m\u001b[0mbackward\u001b[0m\u001b[0;34m(\u001b[0m\u001b[0;34m)\u001b[0m\u001b[0;34m\u001b[0m\u001b[0;34m\u001b[0m\u001b[0m\n\u001b[1;32m     21\u001b[0m             \u001b[0mtrain_loss\u001b[0m \u001b[0;34m+=\u001b[0m \u001b[0mloss\u001b[0m\u001b[0;34m.\u001b[0m\u001b[0mitem\u001b[0m\u001b[0;34m(\u001b[0m\u001b[0;34m)\u001b[0m\u001b[0;34m\u001b[0m\u001b[0;34m\u001b[0m\u001b[0m\n",
      "\u001b[0;32m<ipython-input-6-f298daddea4a>\u001b[0m in \u001b[0;36mloss_function\u001b[0;34m(input, target)\u001b[0m\n\u001b[1;32m     30\u001b[0m \u001b[0;34m\u001b[0m\u001b[0m\n\u001b[1;32m     31\u001b[0m \u001b[0;32mdef\u001b[0m \u001b[0mloss_function\u001b[0m\u001b[0;34m(\u001b[0m\u001b[0minput\u001b[0m\u001b[0;34m,\u001b[0m \u001b[0mtarget\u001b[0m\u001b[0;34m)\u001b[0m\u001b[0;34m:\u001b[0m\u001b[0;34m\u001b[0m\u001b[0;34m\u001b[0m\u001b[0m\n\u001b[0;32m---> 32\u001b[0;31m     \u001b[0;32mreturn\u001b[0m \u001b[0mtorch\u001b[0m\u001b[0;34m.\u001b[0m\u001b[0msum\u001b[0m\u001b[0;34m(\u001b[0m\u001b[0;34m(\u001b[0m\u001b[0minput\u001b[0m \u001b[0;34m-\u001b[0m \u001b[0mtarget\u001b[0m\u001b[0;34m)\u001b[0m \u001b[0;34m**\u001b[0m \u001b[0;36m2\u001b[0m\u001b[0;34m)\u001b[0m\u001b[0;34m\u001b[0m\u001b[0;34m\u001b[0m\u001b[0m\n\u001b[0m",
      "\u001b[0;31mRuntimeError\u001b[0m: The size of tensor a (15000) must match the size of tensor b (150) at non-singleton dimension 1"
     ]
    }
   ],
   "source": [
    "# Train autoencoder\n",
    "\n",
    "num_epochs = 10\n",
    "batch_size = 64\n",
    "model = train_autoencoder(num_epochs, buffer, batch_size)"
   ]
  },
  {
   "cell_type": "code",
   "execution_count": null,
   "metadata": {},
   "outputs": [],
   "source": []
  }
 ],
 "metadata": {
  "kernelspec": {
   "display_name": "Python 3",
   "language": "python",
   "name": "python3"
  },
  "language_info": {
   "codemirror_mode": {
    "name": "ipython",
    "version": 3
   },
   "file_extension": ".py",
   "mimetype": "text/x-python",
   "name": "python",
   "nbconvert_exporter": "python",
   "pygments_lexer": "ipython3",
   "version": "3.7.1"
  }
 },
 "nbformat": 4,
 "nbformat_minor": 2
}
